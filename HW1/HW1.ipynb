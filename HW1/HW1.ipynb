{
 "cells": [
  {
   "cell_type": "code",
   "execution_count": 1,
   "metadata": {},
   "outputs": [
    {
     "data": {
      "text/plain": [
       "'Connected: @None'"
      ]
     },
     "execution_count": 1,
     "metadata": {},
     "output_type": "execute_result"
    }
   ],
   "source": [
    "%load_ext sql\n",
    "%sql sqlite://"
   ]
  },
  {
   "cell_type": "code",
   "execution_count": 2,
   "metadata": {},
   "outputs": [
    {
     "name": "stdout",
     "output_type": "stream",
     "text": [
      " * sqlite://\n",
      "Done.\n"
     ]
    },
    {
     "data": {
      "text/plain": [
       "[]"
      ]
     },
     "execution_count": 2,
     "metadata": {},
     "output_type": "execute_result"
    }
   ],
   "source": [
    "%%sql\n",
    "pragma foreign_keys = ON"
   ]
  },
  {
   "cell_type": "markdown",
   "metadata": {},
   "source": [
    "# Задание 1 \n",
    "\n",
    "Рассмотрим 2 таблицы\n",
    "\n",
    "A\n",
    "\n",
    "|   name  |  key   | value\n",
    "|---------|--------- | ----\n",
    "| Ivanov  |   FIO  |  Иванов Иван Иванович\n",
    "| Ivanov  | Phone  |  +(7) 111-1111111\n",
    "| Ivanov  | email  | ivanov@ivanov.com\n",
    "| Petrov  |   FIO  | Петров Петр Петрович\n",
    "| Petrov  | Phone  |  +(7) 222-2222222\n",
    "| Petrov  | email  | petrov@petrov.com\n",
    "\n",
    "B\n",
    "\n",
    "|   name  |  FIO   | Phone | email\n",
    "|---------|---------|------|---\n",
    "| Ivanov  | Иванов Иван Иванович | +(7) 111-1111111 | ivanov@ivanov.com\n",
    "| Petrov  | Петров Петр Петрович | +(7) 222-2222222 | petrov@petrov.com\n",
    "\n",
    "\n",
    "1. Как из таблицы A получить B?\n",
    "2. Как из таблицы B получить A?\n"
   ]
  },
  {
   "cell_type": "markdown",
   "metadata": {},
   "source": [
    "### <span style=\"color:#FF9200\">Создаем таблицу А</span>"
   ]
  },
  {
   "cell_type": "code",
   "execution_count": 3,
   "metadata": {},
   "outputs": [
    {
     "name": "stdout",
     "output_type": "stream",
     "text": [
      " * sqlite://\n",
      "Done.\n",
      "Done.\n"
     ]
    },
    {
     "data": {
      "text/plain": [
       "[]"
      ]
     },
     "execution_count": 3,
     "metadata": {},
     "output_type": "execute_result"
    }
   ],
   "source": [
    "%%sql\n",
    "DROP TABLE IF EXISTS A;\n",
    "CREATE TABLE A (\n",
    "    name VARCHAR(30),\n",
    "    key VARCHAR(30),\n",
    "    value VARCHAR(30)\n",
    ");"
   ]
  },
  {
   "cell_type": "markdown",
   "metadata": {},
   "source": [
    "### <span style=\"color:#FF9200\">Добавляем в нее значения из примера</span>"
   ]
  },
  {
   "cell_type": "code",
   "execution_count": 4,
   "metadata": {},
   "outputs": [
    {
     "name": "stdout",
     "output_type": "stream",
     "text": [
      " * sqlite://\n",
      "1 rows affected.\n",
      "1 rows affected.\n",
      "1 rows affected.\n",
      "1 rows affected.\n",
      "1 rows affected.\n",
      "1 rows affected.\n"
     ]
    },
    {
     "data": {
      "text/plain": [
       "[]"
      ]
     },
     "execution_count": 4,
     "metadata": {},
     "output_type": "execute_result"
    }
   ],
   "source": [
    "%%sql\n",
    "INSERT INTO A VALUES ('Ivanov', 'FIO', 'Иванов Иван Иванович');\n",
    "INSERT INTO A VALUES ('Ivanov', 'Phone', '+(7) 111-1111111');\n",
    "INSERT INTO A VALUES ('Ivanov', 'email', 'ivanov@ivanov.com');\n",
    "INSERT INTO A VALUES ('Petrov', 'FIO', 'Петров Петр Петрович');\n",
    "INSERT INTO A VALUES ('Petrov', 'Phone', '+(7) 222-2222222');\n",
    "INSERT INTO A VALUES ('Petrov', 'email', 'petrov@petrov.com');"
   ]
  },
  {
   "cell_type": "markdown",
   "metadata": {},
   "source": [
    "### <span style=\"color:#FF9200\">Из А получаем B</span>"
   ]
  },
  {
   "cell_type": "code",
   "execution_count": 5,
   "metadata": {},
   "outputs": [
    {
     "name": "stdout",
     "output_type": "stream",
     "text": [
      " * sqlite://\n",
      "Done.\n"
     ]
    },
    {
     "data": {
      "text/html": [
       "<table>\n",
       "    <tr>\n",
       "        <th>name</th>\n",
       "        <th>FIO</th>\n",
       "        <th>Phone</th>\n",
       "        <th>email</th>\n",
       "    </tr>\n",
       "    <tr>\n",
       "        <td>Ivanov</td>\n",
       "        <td>Иванов Иван Иванович</td>\n",
       "        <td>+(7) 111-1111111</td>\n",
       "        <td>ivanov@ivanov.com</td>\n",
       "    </tr>\n",
       "    <tr>\n",
       "        <td>Petrov</td>\n",
       "        <td>Петров Петр Петрович</td>\n",
       "        <td>+(7) 222-2222222</td>\n",
       "        <td>petrov@petrov.com</td>\n",
       "    </tr>\n",
       "</table>"
      ],
      "text/plain": [
       "[('Ivanov', 'Иванов Иван Иванович', '+(7) 111-1111111', 'ivanov@ivanov.com'),\n",
       " ('Petrov', 'Петров Петр Петрович', '+(7) 222-2222222', 'petrov@petrov.com')]"
      ]
     },
     "execution_count": 5,
     "metadata": {},
     "output_type": "execute_result"
    }
   ],
   "source": [
    "%%sql\n",
    "SELECT name, MAX(CASE WHEN KEY = 'FIO' THEN VALUE END) AS FIO, \n",
    "       MAX(CASE WHEN KEY = 'Phone' THEN VALUE END) AS Phone, \n",
    "        MAX(CASE WHEN KEY = 'email' THEN VALUE END) AS email\n",
    "FROM A\n",
    "GROUP BY name"
   ]
  },
  {
   "cell_type": "markdown",
   "metadata": {},
   "source": [
    "### <span style=\"color:#FF9200\">Создаем таблицу В</span>"
   ]
  },
  {
   "cell_type": "code",
   "execution_count": 6,
   "metadata": {},
   "outputs": [
    {
     "name": "stdout",
     "output_type": "stream",
     "text": [
      " * sqlite://\n",
      "Done.\n",
      "Done.\n"
     ]
    },
    {
     "data": {
      "text/plain": [
       "[]"
      ]
     },
     "execution_count": 6,
     "metadata": {},
     "output_type": "execute_result"
    }
   ],
   "source": [
    "%%sql\n",
    "DROP TABLE IF EXISTS B;\n",
    "CREATE TABLE B (\n",
    "    name VARCHAR(30),\n",
    "    FIO VARCHAR(30),\n",
    "    Phone VARCHAR(30),\n",
    "    email VARCHAR(30)\n",
    ");"
   ]
  },
  {
   "cell_type": "markdown",
   "metadata": {},
   "source": [
    "### <span style=\"color:#FF9200\">Добавляем в нее значения из примера</span>"
   ]
  },
  {
   "cell_type": "code",
   "execution_count": 7,
   "metadata": {},
   "outputs": [
    {
     "name": "stdout",
     "output_type": "stream",
     "text": [
      " * sqlite://\n",
      "1 rows affected.\n",
      "1 rows affected.\n"
     ]
    },
    {
     "data": {
      "text/plain": [
       "[]"
      ]
     },
     "execution_count": 7,
     "metadata": {},
     "output_type": "execute_result"
    }
   ],
   "source": [
    "%%sql\n",
    "INSERT INTO B VALUES('Ivanov', 'Иванов Иван Иванович', '+(7) 111-1111111', 'ivanov@ivanov.com');\n",
    "INSERT INTO B VALUES('Petrov', 'Петров Петр Петрович', '+(7) 222-2222222', 'petrov@petrov.com');"
   ]
  },
  {
   "cell_type": "markdown",
   "metadata": {},
   "source": [
    "### <span style=\"color:#FF9200\">Из B получаем A</span>"
   ]
  },
  {
   "cell_type": "code",
   "execution_count": 8,
   "metadata": {},
   "outputs": [
    {
     "name": "stdout",
     "output_type": "stream",
     "text": [
      " * sqlite://\n",
      "Done.\n"
     ]
    },
    {
     "data": {
      "text/html": [
       "<table>\n",
       "    <tr>\n",
       "        <th>name</th>\n",
       "        <th>KEY</th>\n",
       "        <th>value</th>\n",
       "    </tr>\n",
       "    <tr>\n",
       "        <td>Ivanov</td>\n",
       "        <td>FIO</td>\n",
       "        <td>Иванов Иван Иванович</td>\n",
       "    </tr>\n",
       "    <tr>\n",
       "        <td>Ivanov</td>\n",
       "        <td>Phone</td>\n",
       "        <td>+(7) 111-1111111</td>\n",
       "    </tr>\n",
       "    <tr>\n",
       "        <td>Ivanov</td>\n",
       "        <td>email</td>\n",
       "        <td>ivanov@ivanov.com</td>\n",
       "    </tr>\n",
       "    <tr>\n",
       "        <td>Petrov</td>\n",
       "        <td>FIO</td>\n",
       "        <td>Петров Петр Петрович</td>\n",
       "    </tr>\n",
       "    <tr>\n",
       "        <td>Petrov</td>\n",
       "        <td>Phone</td>\n",
       "        <td>+(7) 222-2222222</td>\n",
       "    </tr>\n",
       "    <tr>\n",
       "        <td>Petrov</td>\n",
       "        <td>email</td>\n",
       "        <td>petrov@petrov.com</td>\n",
       "    </tr>\n",
       "</table>"
      ],
      "text/plain": [
       "[('Ivanov', 'FIO', 'Иванов Иван Иванович'),\n",
       " ('Ivanov', 'Phone', '+(7) 111-1111111'),\n",
       " ('Ivanov', 'email', 'ivanov@ivanov.com'),\n",
       " ('Petrov', 'FIO', 'Петров Петр Петрович'),\n",
       " ('Petrov', 'Phone', '+(7) 222-2222222'),\n",
       " ('Petrov', 'email', 'petrov@petrov.com')]"
      ]
     },
     "execution_count": 8,
     "metadata": {},
     "output_type": "execute_result"
    }
   ],
   "source": [
    "%%sql\n",
    "SELECT name, 'FIO' KEY, FIO value \n",
    "FROM B\n",
    "UNION\n",
    "SELECT name, 'Phone' KEY, Phone value\n",
    "FROM B\n",
    "UNION\n",
    "SELECT name, 'email' KEY, email value\n",
    "FROM B"
   ]
  },
  {
   "cell_type": "markdown",
   "metadata": {},
   "source": [
    "# Задание 2\n",
    "Рассмотрим таблицу StudentMarks\n",
    "\n",
    "| student_name | mark_date | mark_value\n",
    "|---------|--------- | ----\n",
    "| Ivanov  | 2019.01.01 | 3\n",
    "| Ivanov  | 2019.01.05 | 4\n",
    "| Ivanov  | 2019.02.03 | 5\n",
    "| Petrov  | 2019.02.01 | 2\n",
    "| Petrov  | 2019.02.16 | 4\n",
    "| Petrov  | 2019.04.17 | 5\n",
    "\n",
    "В данной таблице студенту проставляется оценка за определенную дату. Необходимо сформировать интервалы, \n",
    "за время которых оценка не менялась,\n",
    "и среднюю оценку, находящуюся в данном интервале.\n",
    "Текущий интервал должен заканчиваться на 5999.12.31\n",
    "\n",
    "\n",
    "По исходным данным результатом таблицы будет следущее:\n",
    "\n",
    "| client_name | mark_validfrom | mark_validto | average_mark_value\n",
    "|---------|--------- | ------ | -----\n",
    "| Ivanov  | 2019.01.01 | 2019.01.04 | 3\n",
    "| Ivanov  | 2019.01.05 | 2019.02.02 | 3.5\n",
    "| Ivanov  | 2019.02.03 | 5999.12.31 | 4\n",
    "| Petrov  | 2019.02.01 | 2019.02.15 | 2\n",
    "| Petrov  | 2019.02.16 | 2019.04.16 | 3\n",
    "| Petrov  | 2019.04.17 | 5999.12.31 | 3.6666\n"
   ]
  },
  {
   "cell_type": "markdown",
   "metadata": {},
   "source": [
    "### <span style=\"color:#FF9200\">Создаем таблицу StudentMarks</span>"
   ]
  },
  {
   "cell_type": "code",
   "execution_count": 9,
   "metadata": {},
   "outputs": [
    {
     "name": "stdout",
     "output_type": "stream",
     "text": [
      " * sqlite://\n",
      "Done.\n",
      "Done.\n"
     ]
    },
    {
     "data": {
      "text/plain": [
       "[]"
      ]
     },
     "execution_count": 9,
     "metadata": {},
     "output_type": "execute_result"
    }
   ],
   "source": [
    "%%sql\n",
    "DROP TABLE IF EXISTS StudentMarks;\n",
    "CREATE TABLE StudentMarks (\n",
    "    student_name VARCHAR(30),\n",
    "    mark_date DATE,\n",
    "    mark_value INTEGER\n",
    ");"
   ]
  },
  {
   "cell_type": "markdown",
   "metadata": {},
   "source": [
    "### <span style=\"color:#FF9200\">Добавляем в нее значения из примера</span>"
   ]
  },
  {
   "cell_type": "code",
   "execution_count": 10,
   "metadata": {},
   "outputs": [
    {
     "name": "stdout",
     "output_type": "stream",
     "text": [
      " * sqlite://\n",
      "1 rows affected.\n",
      "1 rows affected.\n",
      "1 rows affected.\n",
      "1 rows affected.\n",
      "1 rows affected.\n",
      "1 rows affected.\n"
     ]
    },
    {
     "data": {
      "text/plain": [
       "[]"
      ]
     },
     "execution_count": 10,
     "metadata": {},
     "output_type": "execute_result"
    }
   ],
   "source": [
    "%%sql\n",
    "INSERT INTO StudentMarks VALUES ('Ivanov', '2019-01-01', 3);\n",
    "INSERT INTO StudentMarks VALUES ('Ivanov', '2019-01-05', 4);\n",
    "INSERT INTO StudentMarks VALUES ('Ivanov', '2019-02-03', 5);\n",
    "INSERT INTO StudentMarks VALUES ('Petrov', '2019-02-01', 2);\n",
    "INSERT INTO StudentMarks VALUES ('Petrov', '2019-02-16', 4);\n",
    "INSERT INTO StudentMarks VALUES ('Petrov', '2019-04-17', 5);"
   ]
  },
  {
   "cell_type": "markdown",
   "metadata": {},
   "source": [
    "### <span style=\"color:#FF9200\">Итоговая таблица</span>"
   ]
  },
  {
   "cell_type": "code",
   "execution_count": 11,
   "metadata": {},
   "outputs": [
    {
     "name": "stdout",
     "output_type": "stream",
     "text": [
      " * sqlite://\n",
      "Done.\n"
     ]
    },
    {
     "data": {
      "text/html": [
       "<table>\n",
       "    <tr>\n",
       "        <th>client_name</th>\n",
       "        <th>mark_validfrom</th>\n",
       "        <th>mark_validto</th>\n",
       "        <th>average_mark_value</th>\n",
       "    </tr>\n",
       "    <tr>\n",
       "        <td>Ivanov</td>\n",
       "        <td>2019-01-01</td>\n",
       "        <td>2019-01-04</td>\n",
       "        <td>3.0</td>\n",
       "    </tr>\n",
       "    <tr>\n",
       "        <td>Ivanov</td>\n",
       "        <td>2019-01-05</td>\n",
       "        <td>2019-02-02</td>\n",
       "        <td>3.5</td>\n",
       "    </tr>\n",
       "    <tr>\n",
       "        <td>Ivanov</td>\n",
       "        <td>2019-02-03</td>\n",
       "        <td>5999-12-31</td>\n",
       "        <td>4.0</td>\n",
       "    </tr>\n",
       "    <tr>\n",
       "        <td>Petrov</td>\n",
       "        <td>2019-02-01</td>\n",
       "        <td>2019-02-15</td>\n",
       "        <td>2.0</td>\n",
       "    </tr>\n",
       "    <tr>\n",
       "        <td>Petrov</td>\n",
       "        <td>2019-02-16</td>\n",
       "        <td>2019-04-16</td>\n",
       "        <td>3.0</td>\n",
       "    </tr>\n",
       "    <tr>\n",
       "        <td>Petrov</td>\n",
       "        <td>2019-04-17</td>\n",
       "        <td>5999-12-31</td>\n",
       "        <td>3.67</td>\n",
       "    </tr>\n",
       "</table>"
      ],
      "text/plain": [
       "[('Ivanov', '2019-01-01', '2019-01-04', 3.0),\n",
       " ('Ivanov', '2019-01-05', '2019-02-02', 3.5),\n",
       " ('Ivanov', '2019-02-03', '5999-12-31', 4.0),\n",
       " ('Petrov', '2019-02-01', '2019-02-15', 2.0),\n",
       " ('Petrov', '2019-02-16', '2019-04-16', 3.0),\n",
       " ('Petrov', '2019-04-17', '5999-12-31', 3.67)]"
      ]
     },
     "execution_count": 11,
     "metadata": {},
     "output_type": "execute_result"
    }
   ],
   "source": [
    "%%sql\n",
    "SELECT student_name AS client_name, mark_date AS mark_validfrom, \n",
    "       DATE(LEAD(mark_date, 1, DATE('6000-01-01')) OVER (PARTITION BY student_name ORDER BY mark_date), '-1 day') AS mark_validto,\n",
    "       ROUND(AVG(mark_value) OVER (PARTITION BY student_name ORDER BY mark_date), 2) AS average_mark_value\n",
    "FROM StudentMarks"
   ]
  },
  {
   "cell_type": "markdown",
   "metadata": {},
   "source": [
    "# Задание 3\n",
    "\n",
    "\n",
    "Рассмотрим таблицу CheatList, описывающую блокнот со шпаргалками. В данной таблице на одном листе может быть только одна шпаргалка по одному предмету. Блокнот состоит из 2N листов, пронумерованных от 0 до 2N-1. 0 лист всегда пустой, 2N-1 лист может быть как пустым, так и заполненным. В самом конце блокнота не может быть 2 подряд пустых листа. Необходимо вернуть таблицу вида (left_list, right_list), описывающую все листы в отсортированном порядке\n",
    "## Пример \n",
    "\n",
    "| ListNumber | Subject \n",
    "| -----------|--------\n",
    "|  1         | Math\n",
    "|  3         | Math\n",
    "|  4         | History\n",
    "\n",
    "## Результат\n",
    "\n",
    "| left_list | right_list \n",
    "| --------- | ---------\n",
    "|   NULL    |  Math\n",
    "|   NULL    |  Math\n",
    "|   History |  NULL\n"
   ]
  },
  {
   "cell_type": "markdown",
   "metadata": {},
   "source": [
    "### <span style=\"color:#FF9200\">Создаем таблицу CheatList</span>"
   ]
  },
  {
   "cell_type": "code",
   "execution_count": 12,
   "metadata": {},
   "outputs": [
    {
     "name": "stdout",
     "output_type": "stream",
     "text": [
      " * sqlite://\n",
      "Done.\n",
      "Done.\n"
     ]
    },
    {
     "data": {
      "text/plain": [
       "[]"
      ]
     },
     "execution_count": 12,
     "metadata": {},
     "output_type": "execute_result"
    }
   ],
   "source": [
    "%%sql\n",
    "DROP TABLE IF EXISTS CheatList;\n",
    "CREATE TABLE CheatList (\n",
    "    ListNumber integer unique,--primary key not null,\n",
    "    Subject    \n",
    ");"
   ]
  },
  {
   "cell_type": "markdown",
   "metadata": {},
   "source": [
    "### <span style=\"color:#FF9200\">Добавляем в нее значения из примера</span>"
   ]
  },
  {
   "cell_type": "code",
   "execution_count": 13,
   "metadata": {},
   "outputs": [
    {
     "name": "stdout",
     "output_type": "stream",
     "text": [
      " * sqlite://\n",
      "1 rows affected.\n",
      "1 rows affected.\n",
      "1 rows affected.\n"
     ]
    },
    {
     "data": {
      "text/plain": [
       "[]"
      ]
     },
     "execution_count": 13,
     "metadata": {},
     "output_type": "execute_result"
    }
   ],
   "source": [
    "%%sql\n",
    "INSERT INTO CheatList VALUES (1, 'Math');\n",
    "INSERT INTO CheatList VALUES (3, 'Math');\n",
    "INSERT INTO CheatList VALUES (4, 'History');"
   ]
  },
  {
   "cell_type": "markdown",
   "metadata": {},
   "source": [
    "### <span style=\"color:#FF9200\">Результат</span>"
   ]
  },
  {
   "cell_type": "code",
   "execution_count": 14,
   "metadata": {},
   "outputs": [
    {
     "name": "stdout",
     "output_type": "stream",
     "text": [
      " * sqlite://\n",
      "Done.\n"
     ]
    },
    {
     "data": {
      "text/html": [
       "<table>\n",
       "    <tr>\n",
       "        <th>left_list</th>\n",
       "        <th>right_list</th>\n",
       "    </tr>\n",
       "    <tr>\n",
       "        <td>None</td>\n",
       "        <td>Math</td>\n",
       "    </tr>\n",
       "    <tr>\n",
       "        <td>None</td>\n",
       "        <td>Math</td>\n",
       "    </tr>\n",
       "    <tr>\n",
       "        <td>History</td>\n",
       "        <td>None</td>\n",
       "    </tr>\n",
       "</table>"
      ],
      "text/plain": [
       "[(None, 'Math'), (None, 'Math'), ('History', None)]"
      ]
     },
     "execution_count": 14,
     "metadata": {},
     "output_type": "execute_result"
    }
   ],
   "source": [
    "%%sql\n",
    "WITH\n",
    "    tp(amount) AS (\n",
    "               SELECT MAX(ListNumber) + (1 - MAX(ListNumber) % 2)\n",
    "               FROM CheatList\n",
    "             ),\n",
    "    blank(ID, SUB) AS(\n",
    "                       SELECT 1, NULL\n",
    "                       UNION\n",
    "                       SELECT ID + 1, NULL from blank\n",
    "                       WHERE ID < (\n",
    "                                    SELECT amount\n",
    "                                    FROM tp\n",
    "                                  )\n",
    "                     )\n",
    "\n",
    "SELECT left_list, right_list\n",
    "FROM (\n",
    "        SELECT ID, LAG(Subject) OVER () AS left_list, Subject AS right_list\n",
    "        FROM blank\n",
    "        LEFT JOIN CheatList ON ID LIKE ListNumber\n",
    "     )\n",
    "WHERE id % 2 = 1"
   ]
  },
  {
   "cell_type": "markdown",
   "metadata": {},
   "source": [
    "# Задание 4\n",
    "Используя формат xml, описанный в [dbmstools](http://dbmstools.sourceforge.net/docs/xmlschema.html), напишите функцию на языке Python, на входе который будет путь к xml, на выходе - скрипт с DDL скриптами таблиц (можно ограничиться table блоком)"
   ]
  },
  {
   "cell_type": "code",
   "execution_count": 15,
   "metadata": {},
   "outputs": [
    {
     "name": "stdout",
     "output_type": "stream",
     "text": [
      "DROP TABLE IF EXISTS Job.Workman;\n",
      "CREATE TABLE Job.Workman (\n",
      "\tid INT AUTO INCREMENT,\n",
      "\tsurname VARCHAR(50) NOT NULL,\n",
      "\tname VARCHAR(50) NOT NULL,\n",
      "\tqualification VARCHAR(50),\n",
      "\texperience INT,\n",
      "\tidentification_key VARCHAR(50),\n",
      "\tCONSTRAINT PK_pmk PRIMARY KEY (identification_key), \n",
      "\tCONSTRAINT UN_Workman UNIQUE (identification_key),\n",
      "\tCONSTRAINT FK_fnk FOREIGN KEY (id) REFERENCES Workplace (place_id));\n",
      "CREATE UNIQUE INDEX ind_id\n",
      "ON Workman (surname, name);\n"
     ]
    }
   ],
   "source": [
    "from xml.etree import ElementTree\n",
    "\n",
    "def parse_xml(xmlFile):\n",
    "    \"\"\"Parse the XML file\"\"\"\n",
    "    tree = ElementTree.parse(xmlFile)\n",
    "    root = tree.getroot()\n",
    "    \n",
    "    query = []\n",
    "    \n",
    "    db_schema = root.attrib['name']\n",
    "    tables = root.findall('table')\n",
    "    \n",
    "    for table in tables:\n",
    "        table_name = table.attrib['name']\n",
    "                \n",
    "        \"\"\"Overriding processing\"\"\"\n",
    "        if table[0].tag == 'schema-override':\n",
    "            query.append('DROP TABLE IF EXISTS {0}.{1};'.format(table[0].attrib['schema'], table_name))\n",
    "            \n",
    "        query.append('CREATE TABLE {0}.{1} ('.format(db_schema, table_name))\n",
    "        \n",
    "        \"\"\"Columns processing\"\"\"\n",
    "        columns_start = table.find('columns')\n",
    "        columns = columns_start.findall('column')\n",
    "\n",
    "        \n",
    "        for column in columns:\n",
    "            q = '\\t'\n",
    "            q += column.attrib['name']\n",
    "            \n",
    "            if 'type' in column.attrib:\n",
    "                q += ' ' + column.attrib['type'].upper()\n",
    "            if 'length' in column.attrib:\n",
    "                q += '(' + column.attrib['length']\n",
    "                if 'scale' in column.attrib:\n",
    "                    q += ',' + column.attrib['scale']\n",
    "                q += ')'\n",
    "            if column.attrib.get('allows-null', 'true') == 'false':\n",
    "                q += ' NOT NULL'\n",
    "            if column.attrib.get('auto-increment', 'false') == 'true':\n",
    "                q += ' AUTO INCREMENT'\n",
    "            if 'default-value' in column.attrib:\n",
    "                q += ' DEFAULT ' + column.attrib['default-value']\n",
    "            if 'constraints' in column.attrib:\n",
    "                q += ' ' + column.attrib['constraints']\n",
    "            q += ','\n",
    "                \n",
    "            query.append(q)\n",
    "        \n",
    "        \"\"\"Constraint processing\"\"\"\n",
    "        constraints = table.find('constraints')\n",
    "        \n",
    "        if constraints:\n",
    "        \n",
    "            for constraint in constraints:\n",
    "                q = '\\tCONSTRAINT '\n",
    "                \n",
    "                if constraint.tag == 'primary-key':\n",
    "                    q += 'PK_' + constraint.attrib['name'] + ' PRIMARY KEY ('\n",
    "                    for name in constraint.iterfind('column-ref'):\n",
    "                        q += name.attrib['name'] + ', '\n",
    "                    q = q[:-2] + '), '\n",
    "                \n",
    "                if constraint.tag == 'unique':\n",
    "                    q += 'UN_' + table_name + ' UNIQUE ('\n",
    "                    for name in constraint.iterfind('column-ref'):\n",
    "                        q += name.attrib['name'] + ', '\n",
    "                    q = q[:-2] + '),'\n",
    "                if constraint.tag == 'foreign-key':\n",
    "                    q += 'FK_' + constraint.attrib['name'] + ' FOREIGN KEY ('\n",
    "                    \n",
    "                    for name in constraint.iterfind('column-ref'):\n",
    "                        q += name.attrib['name'] + ','\n",
    "                    q = q[:-1] + ') REFERENCES {0} ('.format(constraint.attrib['references'])\n",
    "                \n",
    "                    for name in constraint.iterfind('referenced-column'):\n",
    "                        q += name.attrib['name'] + ','\n",
    "                    q = q[:-1] + '),'\n",
    "                query.append(q)\n",
    "            \n",
    "           \n",
    "            query[-1] = query[-1][:-1] + ');'    \n",
    "        \n",
    "        \n",
    "        \"\"\"Index processing\"\"\"\n",
    "        indexes = table.find('indexes')\n",
    "        \n",
    "        if indexes:                           \n",
    "            for index in indexes:\n",
    "                q  = 'CREATE '\n",
    "                \n",
    "                if 'unique' in index.attrib and index.attrib['unique'] == 'true':\n",
    "                    q += 'UNIQUE '\n",
    "                \n",
    "                q += 'INDEX {0}\\nON {1} ('.format(index.attrib['name'], table_name)\n",
    "\n",
    "                for column in index:\n",
    "                    q += column.attrib['name'] + ', '\n",
    "                    \n",
    "                q = q[:-2] + ');'       \n",
    "        \n",
    "            query.append(q)\n",
    "    return query            \n",
    "\n",
    "if __name__ == \"__main__\":\n",
    "    f = r'test.xml'\n",
    "    query = parse_xml(f)\n",
    "    \n",
    "    for q in query:\n",
    "        print(q)  \n",
    "    "
   ]
  },
  {
   "cell_type": "markdown",
   "metadata": {},
   "source": [
    "# Задание 5\n",
    "Необходимо уметь хранить матрицы MxM внутри СУБД. Предложите способ хранения, и приведите пример перемножения двух матриц средствами SQL"
   ]
  },
  {
   "cell_type": "markdown",
   "metadata": {},
   "source": [
    "Создадим две таблицы, по одной на каждую матрицу. В каждой будет по 3 столбца: pos_i - позиция элемента по горизонтали, pos_j - по вертикали, value - значение элемента в соответствующей позиции."
   ]
  },
  {
   "cell_type": "code",
   "execution_count": 16,
   "metadata": {},
   "outputs": [
    {
     "name": "stdout",
     "output_type": "stream",
     "text": [
      " * sqlite://\n",
      "Done.\n",
      "Done.\n",
      "Done.\n",
      "Done.\n",
      "1 rows affected.\n",
      "1 rows affected.\n",
      "1 rows affected.\n",
      "1 rows affected.\n",
      "1 rows affected.\n",
      "1 rows affected.\n",
      "1 rows affected.\n",
      "1 rows affected.\n",
      "1 rows affected.\n",
      "1 rows affected.\n",
      "1 rows affected.\n",
      "1 rows affected.\n",
      "1 rows affected.\n",
      "1 rows affected.\n",
      "1 rows affected.\n",
      "1 rows affected.\n",
      "1 rows affected.\n",
      "1 rows affected.\n"
     ]
    },
    {
     "data": {
      "text/plain": [
       "[]"
      ]
     },
     "execution_count": 16,
     "metadata": {},
     "output_type": "execute_result"
    }
   ],
   "source": [
    "%%sql\n",
    "DROP TABLE IF EXISTS A;\n",
    "CREATE TABLE A (\n",
    "     pos_i INTEGER,\n",
    "     pos_j INTEGER,\n",
    "     value INTEGER\n",
    ");\n",
    "\n",
    "DROP TABLE IF EXISTS B;\n",
    "CREATE TABLE B (\n",
    "     pos_i INTEGER,\n",
    "     pos_j INTEGER,\n",
    "     value INTEGER\n",
    ");\n",
    "\n",
    "insert into A values (1,1,1);\n",
    "insert into A values (1,2,2);\n",
    "insert into A values (1,3,3);\n",
    "insert into A values (2,1,4);\n",
    "insert into A values (2,2,5);\n",
    "insert into A values (2,3,6);\n",
    "insert into A values (3,1,7);\n",
    "insert into A values (3,2,8);\n",
    "insert into A values (3,3,9);\n",
    "\n",
    "insert into B values (1,1,9);\n",
    "insert into B values (1,2,8);\n",
    "insert into B values (1,3,7);\n",
    "insert into B values (2,1,6);\n",
    "insert into B values (2,2,5);\n",
    "insert into B values (2,3,4);\n",
    "insert into B values (3,1,3);\n",
    "insert into B values (3,2,2);\n",
    "insert into B values (3,3,1);"
   ]
  },
  {
   "cell_type": "code",
   "execution_count": 17,
   "metadata": {},
   "outputs": [
    {
     "name": "stdout",
     "output_type": "stream",
     "text": [
      " * sqlite://\n",
      "Done.\n"
     ]
    },
    {
     "data": {
      "text/html": [
       "<table>\n",
       "    <tr>\n",
       "        <th>pos_i</th>\n",
       "        <th>pos_j</th>\n",
       "        <th>value</th>\n",
       "    </tr>\n",
       "    <tr>\n",
       "        <td>1</td>\n",
       "        <td>1</td>\n",
       "        <td>1</td>\n",
       "    </tr>\n",
       "    <tr>\n",
       "        <td>1</td>\n",
       "        <td>2</td>\n",
       "        <td>2</td>\n",
       "    </tr>\n",
       "    <tr>\n",
       "        <td>1</td>\n",
       "        <td>3</td>\n",
       "        <td>3</td>\n",
       "    </tr>\n",
       "    <tr>\n",
       "        <td>2</td>\n",
       "        <td>1</td>\n",
       "        <td>4</td>\n",
       "    </tr>\n",
       "    <tr>\n",
       "        <td>2</td>\n",
       "        <td>2</td>\n",
       "        <td>5</td>\n",
       "    </tr>\n",
       "    <tr>\n",
       "        <td>2</td>\n",
       "        <td>3</td>\n",
       "        <td>6</td>\n",
       "    </tr>\n",
       "    <tr>\n",
       "        <td>3</td>\n",
       "        <td>1</td>\n",
       "        <td>7</td>\n",
       "    </tr>\n",
       "    <tr>\n",
       "        <td>3</td>\n",
       "        <td>2</td>\n",
       "        <td>8</td>\n",
       "    </tr>\n",
       "    <tr>\n",
       "        <td>3</td>\n",
       "        <td>3</td>\n",
       "        <td>9</td>\n",
       "    </tr>\n",
       "</table>"
      ],
      "text/plain": [
       "[(1, 1, 1),\n",
       " (1, 2, 2),\n",
       " (1, 3, 3),\n",
       " (2, 1, 4),\n",
       " (2, 2, 5),\n",
       " (2, 3, 6),\n",
       " (3, 1, 7),\n",
       " (3, 2, 8),\n",
       " (3, 3, 9)]"
      ]
     },
     "execution_count": 17,
     "metadata": {},
     "output_type": "execute_result"
    }
   ],
   "source": [
    "%%sql\n",
    "SELECT * FROM A;"
   ]
  },
  {
   "cell_type": "code",
   "execution_count": 18,
   "metadata": {},
   "outputs": [
    {
     "name": "stdout",
     "output_type": "stream",
     "text": [
      " * sqlite://\n",
      "Done.\n"
     ]
    },
    {
     "data": {
      "text/html": [
       "<table>\n",
       "    <tr>\n",
       "        <th>pos_i</th>\n",
       "        <th>pos_j</th>\n",
       "        <th>value</th>\n",
       "    </tr>\n",
       "    <tr>\n",
       "        <td>1</td>\n",
       "        <td>1</td>\n",
       "        <td>9</td>\n",
       "    </tr>\n",
       "    <tr>\n",
       "        <td>1</td>\n",
       "        <td>2</td>\n",
       "        <td>8</td>\n",
       "    </tr>\n",
       "    <tr>\n",
       "        <td>1</td>\n",
       "        <td>3</td>\n",
       "        <td>7</td>\n",
       "    </tr>\n",
       "    <tr>\n",
       "        <td>2</td>\n",
       "        <td>1</td>\n",
       "        <td>6</td>\n",
       "    </tr>\n",
       "    <tr>\n",
       "        <td>2</td>\n",
       "        <td>2</td>\n",
       "        <td>5</td>\n",
       "    </tr>\n",
       "    <tr>\n",
       "        <td>2</td>\n",
       "        <td>3</td>\n",
       "        <td>4</td>\n",
       "    </tr>\n",
       "    <tr>\n",
       "        <td>3</td>\n",
       "        <td>1</td>\n",
       "        <td>3</td>\n",
       "    </tr>\n",
       "    <tr>\n",
       "        <td>3</td>\n",
       "        <td>2</td>\n",
       "        <td>2</td>\n",
       "    </tr>\n",
       "    <tr>\n",
       "        <td>3</td>\n",
       "        <td>3</td>\n",
       "        <td>1</td>\n",
       "    </tr>\n",
       "</table>"
      ],
      "text/plain": [
       "[(1, 1, 9),\n",
       " (1, 2, 8),\n",
       " (1, 3, 7),\n",
       " (2, 1, 6),\n",
       " (2, 2, 5),\n",
       " (2, 3, 4),\n",
       " (3, 1, 3),\n",
       " (3, 2, 2),\n",
       " (3, 3, 1)]"
      ]
     },
     "execution_count": 18,
     "metadata": {},
     "output_type": "execute_result"
    }
   ],
   "source": [
    "%%sql\n",
    "SELECT * FROM B;"
   ]
  },
  {
   "cell_type": "code",
   "execution_count": 19,
   "metadata": {},
   "outputs": [
    {
     "name": "stdout",
     "output_type": "stream",
     "text": [
      " * sqlite://\n",
      "Done.\n"
     ]
    },
    {
     "data": {
      "text/html": [
       "<table>\n",
       "    <tr>\n",
       "        <th>pos_i</th>\n",
       "        <th>pos_j</th>\n",
       "        <th>value</th>\n",
       "    </tr>\n",
       "    <tr>\n",
       "        <td>1</td>\n",
       "        <td>1</td>\n",
       "        <td>30</td>\n",
       "    </tr>\n",
       "    <tr>\n",
       "        <td>1</td>\n",
       "        <td>2</td>\n",
       "        <td>24</td>\n",
       "    </tr>\n",
       "    <tr>\n",
       "        <td>1</td>\n",
       "        <td>3</td>\n",
       "        <td>18</td>\n",
       "    </tr>\n",
       "    <tr>\n",
       "        <td>2</td>\n",
       "        <td>1</td>\n",
       "        <td>84</td>\n",
       "    </tr>\n",
       "    <tr>\n",
       "        <td>2</td>\n",
       "        <td>2</td>\n",
       "        <td>69</td>\n",
       "    </tr>\n",
       "    <tr>\n",
       "        <td>2</td>\n",
       "        <td>3</td>\n",
       "        <td>54</td>\n",
       "    </tr>\n",
       "    <tr>\n",
       "        <td>3</td>\n",
       "        <td>1</td>\n",
       "        <td>138</td>\n",
       "    </tr>\n",
       "    <tr>\n",
       "        <td>3</td>\n",
       "        <td>2</td>\n",
       "        <td>114</td>\n",
       "    </tr>\n",
       "    <tr>\n",
       "        <td>3</td>\n",
       "        <td>3</td>\n",
       "        <td>90</td>\n",
       "    </tr>\n",
       "</table>"
      ],
      "text/plain": [
       "[(1, 1, 30),\n",
       " (1, 2, 24),\n",
       " (1, 3, 18),\n",
       " (2, 1, 84),\n",
       " (2, 2, 69),\n",
       " (2, 3, 54),\n",
       " (3, 1, 138),\n",
       " (3, 2, 114),\n",
       " (3, 3, 90)]"
      ]
     },
     "execution_count": 19,
     "metadata": {},
     "output_type": "execute_result"
    }
   ],
   "source": [
    "%%sql\n",
    "SELECT A.pos_i, B.pos_j, SUM(A.value*B.value) AS value\n",
    "FROM A\n",
    "JOIN B ON A.pos_j = B.pos_i\n",
    "GROUP BY A.pos_i, B.pos_j\n",
    "ORDER BY A.pos_i, B.pos_j;"
   ]
  }
 ],
 "metadata": {
  "@webio": {
   "lastCommId": null,
   "lastKernelId": null
  },
  "kernelspec": {
   "display_name": "Python 3",
   "language": "python",
   "name": "python3"
  },
  "language_info": {
   "codemirror_mode": {
    "name": "ipython",
    "version": 3
   },
   "file_extension": ".py",
   "mimetype": "text/x-python",
   "name": "python",
   "nbconvert_exporter": "python",
   "pygments_lexer": "ipython3",
   "version": "3.7.3"
  }
 },
 "nbformat": 4,
 "nbformat_minor": 2
}
